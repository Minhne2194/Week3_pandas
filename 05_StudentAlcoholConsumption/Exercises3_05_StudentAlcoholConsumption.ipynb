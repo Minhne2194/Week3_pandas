{
  "cells": [
    {
      "cell_type": "markdown",
      "metadata": {
        "pycharm": {
          "name": "#%% md\n"
        },
        "id": "39uZBQEEj1np"
      },
      "source": [
        "# Student Alcohol Consumption"
      ]
    },
    {
      "cell_type": "markdown",
      "metadata": {
        "pycharm": {
          "name": "#%% md\n"
        },
        "id": "UHAqyffpj1nq"
      },
      "source": [
        "### Introduction:\n",
        "\n",
        "This time you will download a dataset from the UCI.\n",
        "\n",
        "### Step 1. Import the necessary libraries"
      ]
    },
    {
      "cell_type": "code",
      "execution_count": 41,
      "metadata": {
        "pycharm": {
          "name": "#%%\n"
        },
        "id": "Hz87p3jMj1nq"
      },
      "outputs": [],
      "source": [
        "import pandas as pd"
      ]
    },
    {
      "cell_type": "markdown",
      "metadata": {
        "pycharm": {
          "name": "#%% md\n"
        },
        "id": "5d9l9tTNj1nq"
      },
      "source": [
        "### Step 2. Import the dataset from this [address](https://raw.githubusercontent.com/thieu1995/csv-files/main/data/pandas/student-mat.csv)."
      ]
    },
    {
      "cell_type": "markdown",
      "metadata": {
        "pycharm": {
          "name": "#%% md\n"
        },
        "id": "x6QopVa0j1nr"
      },
      "source": [
        "### Step 3. Assign it to a variable called df."
      ]
    },
    {
      "cell_type": "code",
      "execution_count": 42,
      "metadata": {
        "pycharm": {
          "name": "#%%\n"
        },
        "id": "cXgFlyHej1nr"
      },
      "outputs": [],
      "source": [
        "df = pd.read_csv('student_alcohol.csv')"
      ]
    },
    {
      "cell_type": "markdown",
      "metadata": {
        "pycharm": {
          "name": "#%% md\n"
        },
        "id": "vJdIlyxqj1nr"
      },
      "source": [
        "### Step 4. For the purpose of this exercise slice the dataframe from 'school' until the 'guardian' column"
      ]
    },
    {
      "cell_type": "code",
      "execution_count": 43,
      "metadata": {
        "pycharm": {
          "name": "#%%\n"
        },
        "id": "f2FlXNLzj1nr"
      },
      "outputs": [],
      "source": [
        "sliced_df = df.loc[:,'school':'guardian']"
      ]
    },
    {
      "cell_type": "markdown",
      "metadata": {
        "pycharm": {
          "name": "#%% md\n"
        },
        "id": "WW3uZKInj1nr"
      },
      "source": [
        "### Step 5. Create a lambda function that will capitalize strings."
      ]
    },
    {
      "cell_type": "code",
      "execution_count": 44,
      "metadata": {
        "pycharm": {
          "name": "#%%\n"
        },
        "id": "e6VYRfU0j1nr"
      },
      "outputs": [],
      "source": [
        "capitalize_string = lambda s: s.capitalize()"
      ]
    },
    {
      "cell_type": "markdown",
      "metadata": {
        "pycharm": {
          "name": "#%% md\n"
        },
        "id": "W5MmhMFij1nr"
      },
      "source": [
        "### Step 6. Capitalize both Mjob and Fjob"
      ]
    },
    {
      "cell_type": "code",
      "execution_count": 45,
      "metadata": {
        "pycharm": {
          "name": "#%%\n"
        },
        "id": "6que1paGj1nr"
      },
      "outputs": [],
      "source": [
        "Mjob_capitalized = df['Mjob'].str.capitalize()\n",
        "\n",
        "Fjob_capitalized = df['Fjob'].str.capitalize()"
      ]
    },
    {
      "cell_type": "code",
      "source": [
        "print(\"DataFrame:\\n\", df[['Mjob', 'Fjob']].head())\n",
        "print(\"\\nCapitalized:\\n\", pd.DataFrame({'Mjob_capitalized': Mjob_capitalized, 'Fjob_capitalized': Fjob_capitalized}).head())"
      ],
      "metadata": {
        "colab": {
          "base_uri": "https://localhost:8080/"
        },
        "id": "NTVruiSMmxrT",
        "outputId": "616e2a57-b9bd-48f1-f0df-1f1edab5d056"
      },
      "execution_count": 46,
      "outputs": [
        {
          "output_type": "stream",
          "name": "stdout",
          "text": [
            "DataFrame:\n",
            "       Mjob      Fjob\n",
            "0  at_home   teacher\n",
            "1  at_home     other\n",
            "2  at_home     other\n",
            "3   health  services\n",
            "4    other     other\n",
            "\n",
            "Capitalized:\n",
            "   Mjob_capitalized Fjob_capitalized\n",
            "0          At_home          Teacher\n",
            "1          At_home            Other\n",
            "2          At_home            Other\n",
            "3           Health         Services\n",
            "4            Other            Other\n"
          ]
        }
      ]
    },
    {
      "cell_type": "markdown",
      "metadata": {
        "pycharm": {
          "name": "#%% md\n"
        },
        "id": "tk2mRoTEj1ns"
      },
      "source": [
        "### Step 7. Print the last elements of the data set."
      ]
    },
    {
      "cell_type": "code",
      "execution_count": 48,
      "metadata": {
        "pycharm": {
          "name": "#%%\n"
        },
        "id": "ky7UvVgij1ns",
        "colab": {
          "base_uri": "https://localhost:8080/"
        },
        "outputId": "1f823b57-64fb-4696-a949-f88eac1b1d73"
      },
      "outputs": [
        {
          "output_type": "stream",
          "name": "stdout",
          "text": [
            "    school sex  age address famsize Pstatus  Medu  Fedu   Mjob     Fjob  ...  \\\n",
            "394     MS   M   19       U     LE3       T     1     1  other  at_home  ...   \n",
            "\n",
            "    famrel freetime  goout  Dalc  Walc health absences G1 G2 G3  \n",
            "394      3        2      3     3     3      5        5  8  9  9  \n",
            "\n",
            "[1 rows x 33 columns]\n"
          ]
        }
      ],
      "source": [
        "print(df.tail(1))"
      ]
    },
    {
      "cell_type": "markdown",
      "metadata": {
        "pycharm": {
          "name": "#%% md\n"
        },
        "id": "g6-jU--Tj1ns"
      },
      "source": [
        "### Step 8. Did you notice the original dataframe is still lowercase? Why is that? Fix it and capitalize Mjob and Fjob."
      ]
    },
    {
      "cell_type": "markdown",
      "source": [
        "Lý do khung dữ liệu gốc vẫn xuất hiện dưới dạng chữ thường ở Bước 6 là do thao tác viết hoa được thực hiện trên một bản sao của các cột, chứ không phải trên chính các cột gốc."
      ],
      "metadata": {
        "id": "_8VnnaLKnbky"
      }
    },
    {
      "cell_type": "markdown",
      "source": [
        "Để sửa lỗi này và thực sự viết hoa các cột gốc trong khung dữ liệu, cần gán lại các bản sao được viết hoa cho các cột gốc"
      ],
      "metadata": {
        "id": "iMCpe07jnwLp"
      }
    },
    {
      "cell_type": "code",
      "execution_count": 49,
      "metadata": {
        "pycharm": {
          "name": "#%%\n"
        },
        "id": "am8jru-yj1ns"
      },
      "outputs": [],
      "source": [
        "df['Mjob'] = df['Mjob'].str.capitalize()\n",
        "df['Fjob'] = df['Fjob'].str.capitalize()"
      ]
    },
    {
      "cell_type": "code",
      "source": [
        "print(\"\\nOriginal DataFrame after Capitalization:\\n\", df[['Mjob', 'Fjob']].head())"
      ],
      "metadata": {
        "colab": {
          "base_uri": "https://localhost:8080/"
        },
        "id": "kEaBIcuCm4fH",
        "outputId": "3e36a53d-cdab-4aa4-83ec-e6d8f8a05248"
      },
      "execution_count": 50,
      "outputs": [
        {
          "output_type": "stream",
          "name": "stdout",
          "text": [
            "\n",
            "Original DataFrame after Capitalization:\n",
            "       Mjob      Fjob\n",
            "0  At_home   Teacher\n",
            "1  At_home     Other\n",
            "2  At_home     Other\n",
            "3   Health  Services\n",
            "4    Other     Other\n"
          ]
        }
      ]
    },
    {
      "cell_type": "markdown",
      "metadata": {
        "pycharm": {
          "name": "#%% md\n"
        },
        "id": "Gtn5Gaaqj1ns"
      },
      "source": [
        "### Step 9. Create a function called majority that returns a boolean value to a new column called legal_drinker (Consider majority as older than 17 years old)"
      ]
    },
    {
      "cell_type": "code",
      "execution_count": 52,
      "metadata": {
        "pycharm": {
          "name": "#%%\n"
        },
        "id": "mg-S-EHKj1ns",
        "colab": {
          "base_uri": "https://localhost:8080/"
        },
        "outputId": "6e0ac9b1-a454-424d-defc-9bbae240e57b"
      },
      "outputs": [
        {
          "output_type": "stream",
          "name": "stdout",
          "text": [
            "   age  legal_drinker\n",
            "0   18           True\n",
            "1   17          False\n",
            "2   15          False\n",
            "3   15          False\n",
            "4   16          False\n"
          ]
        }
      ],
      "source": [
        "def majority(age):\n",
        "  \"\"\"\n",
        "  Determines if a person is of legal drinking age (older than 17).\n",
        "\n",
        "  Args:\n",
        "    age: The age of the person.\n",
        "\n",
        "  Returns:\n",
        "    True if the person is older than 17, False otherwise.\n",
        "  \"\"\"\n",
        "  return age > 17\n",
        "\n",
        "df['legal_drinker'] = df['age'].apply(majority)\n",
        "\n",
        "print(df[['age', 'legal_drinker']].head())"
      ]
    },
    {
      "cell_type": "markdown",
      "metadata": {
        "pycharm": {
          "name": "#%% md\n"
        },
        "id": "BkfgK2UCj1ns"
      },
      "source": [
        "### Step 10. Multiply every number of the dataset by 10.\n",
        "##### I know this makes no sense, don't forget it is just an exercise"
      ]
    },
    {
      "cell_type": "code",
      "execution_count": 54,
      "metadata": {
        "pycharm": {
          "name": "#%%\n"
        },
        "id": "JXuumMXjj1ns",
        "colab": {
          "base_uri": "https://localhost:8080/"
        },
        "outputId": "74987795-1143-4384-d20a-0d85f960e18b"
      },
      "outputs": [
        {
          "output_type": "stream",
          "name": "stdout",
          "text": [
            "  school sex   age address famsize Pstatus  Medu  Fedu     Mjob      Fjob  \\\n",
            "0     GP   F  1800       U     GT3       A   400   400  At_home   Teacher   \n",
            "1     GP   F  1700       U     GT3       T   100   100  At_home     Other   \n",
            "2     GP   F  1500       U     LE3       T   100   100  At_home     Other   \n",
            "3     GP   F  1500       U     GT3       T   400   200   Health  Services   \n",
            "4     GP   F  1600       U     GT3       T   300   300    Other     Other   \n",
            "\n",
            "   ... freetime goout  Dalc  Walc  health absences    G1    G2    G3  \\\n",
            "0  ...      300   400   100   100     300      600   500   600   600   \n",
            "1  ...      300   300   100   100     300      400   500   500   600   \n",
            "2  ...      300   200   200   300     300     1000   700   800  1000   \n",
            "3  ...      200   200   100   100     500      200  1500  1400  1500   \n",
            "4  ...      300   200   100   200     500      400   600  1000  1000   \n",
            "\n",
            "  legal_drinker  \n",
            "0          True  \n",
            "1         False  \n",
            "2         False  \n",
            "3         False  \n",
            "4         False  \n",
            "\n",
            "[5 rows x 34 columns]\n"
          ]
        }
      ],
      "source": [
        "numeric_cols = df.select_dtypes(include=['number']).columns\n",
        "\n",
        "df[numeric_cols] = df[numeric_cols] * 10\n",
        "\n",
        "print(df.head())"
      ]
    }
  ],
  "metadata": {
    "anaconda-cloud": {},
    "kernelspec": {
      "display_name": "Python 3",
      "name": "python3"
    },
    "language_info": {
      "name": "python"
    },
    "colab": {
      "provenance": []
    }
  },
  "nbformat": 4,
  "nbformat_minor": 0
}