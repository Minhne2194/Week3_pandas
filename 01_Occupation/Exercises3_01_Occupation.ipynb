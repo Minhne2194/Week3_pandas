{
  "cells": [
    {
      "cell_type": "markdown",
      "metadata": {
        "pycharm": {
          "name": "#%% md\n"
        },
        "id": "garFuWNWOcEQ"
      },
      "source": [
        "# Ex3 - Getting and Knowing your Data"
      ]
    },
    {
      "cell_type": "markdown",
      "metadata": {
        "pycharm": {
          "name": "#%% md\n"
        },
        "id": "wtgy65i1OcES"
      },
      "source": [
        "This time we are going to pull data directly from the internet.\n",
        "Special thanks to: https://github.com/justmarkham for sharing the dataset and materials.\n",
        "\n",
        "### Step 1. Import the necessary libraries"
      ]
    },
    {
      "cell_type": "code",
      "execution_count": 1,
      "metadata": {
        "pycharm": {
          "name": "#%%\n"
        },
        "id": "5x69uTdTOcES"
      },
      "outputs": [],
      "source": [
        "import pandas as pd"
      ]
    },
    {
      "cell_type": "markdown",
      "metadata": {
        "pycharm": {
          "name": "#%% md\n"
        },
        "id": "BREq9TZCOcET"
      },
      "source": [
        "### Step 2. Import the dataset from this [address](https://raw.githubusercontent.com/thieu1995/csv-files/main/data/pandas/u.user)."
      ]
    },
    {
      "cell_type": "code",
      "source": [
        "users = pd.read_csv('occupation.csv', sep='|')"
      ],
      "metadata": {
        "id": "WyZQCOJYO5Ns"
      },
      "execution_count": 2,
      "outputs": []
    },
    {
      "cell_type": "markdown",
      "metadata": {
        "pycharm": {
          "name": "#%% md\n"
        },
        "id": "nPEEo0t2OcET"
      },
      "source": [
        "### Step 3. Assign it to a variable called users and use the 'user_id' as index"
      ]
    },
    {
      "cell_type": "code",
      "execution_count": 3,
      "metadata": {
        "pycharm": {
          "name": "#%%\n"
        },
        "id": "3wjxi6_EOcET"
      },
      "outputs": [],
      "source": [
        "users.set_index('user_id', inplace=True)"
      ]
    },
    {
      "cell_type": "markdown",
      "metadata": {
        "pycharm": {
          "name": "#%% md\n"
        },
        "id": "iG_OmF2hOcEU"
      },
      "source": [
        "### Step 4. See the first 25 entries"
      ]
    },
    {
      "cell_type": "code",
      "execution_count": 4,
      "metadata": {
        "scrolled": true,
        "pycharm": {
          "name": "#%%\n"
        },
        "colab": {
          "base_uri": "https://localhost:8080/"
        },
        "id": "BRykOTzzOcEU",
        "outputId": "5ef30187-827a-4886-865e-3e24cdc89cbc"
      },
      "outputs": [
        {
          "output_type": "stream",
          "name": "stdout",
          "text": [
            "         age gender     occupation zip_code\n",
            "user_id                                    \n",
            "1         24      M     technician    85711\n",
            "2         53      F          other    94043\n",
            "3         23      M         writer    32067\n",
            "4         24      M     technician    43537\n",
            "5         33      F          other    15213\n",
            "6         42      M      executive    98101\n",
            "7         57      M  administrator    91344\n",
            "8         36      M  administrator    05201\n",
            "9         29      M        student    01002\n",
            "10        53      M         lawyer    90703\n",
            "11        39      F          other    30329\n",
            "12        28      F          other    06405\n",
            "13        47      M       educator    29206\n",
            "14        45      M      scientist    55106\n",
            "15        49      F       educator    97301\n",
            "16        21      M  entertainment    10309\n",
            "17        30      M     programmer    06355\n",
            "18        35      F          other    37212\n",
            "19        40      M      librarian    02138\n",
            "20        42      F      homemaker    95660\n",
            "21        26      M         writer    30068\n",
            "22        25      M         writer    40206\n",
            "23        30      F         artist    48197\n",
            "24        21      F         artist    94533\n",
            "25        39      M       engineer    55107\n"
          ]
        }
      ],
      "source": [
        "print(users.head(25))"
      ]
    },
    {
      "cell_type": "markdown",
      "metadata": {
        "pycharm": {
          "name": "#%% md\n"
        },
        "id": "Wbvh_SptOcEU"
      },
      "source": [
        "### Step 5. See the last 10 entries"
      ]
    },
    {
      "cell_type": "code",
      "execution_count": 5,
      "metadata": {
        "scrolled": true,
        "pycharm": {
          "name": "#%%\n"
        },
        "colab": {
          "base_uri": "https://localhost:8080/"
        },
        "id": "K9iJTQ3BOcEU",
        "outputId": "da85547c-ea26-46db-b035-c63151ea2bee"
      },
      "outputs": [
        {
          "output_type": "stream",
          "name": "stdout",
          "text": [
            "         age gender     occupation zip_code\n",
            "user_id                                    \n",
            "934       61      M       engineer    22902\n",
            "935       42      M         doctor    66221\n",
            "936       24      M          other    32789\n",
            "937       48      M       educator    98072\n",
            "938       38      F     technician    55038\n",
            "939       26      F        student    33319\n",
            "940       32      M  administrator    02215\n",
            "941       20      M        student    97229\n",
            "942       48      F      librarian    78209\n",
            "943       22      M        student    77841\n"
          ]
        }
      ],
      "source": [
        "print(users.tail(10))"
      ]
    },
    {
      "cell_type": "markdown",
      "metadata": {
        "pycharm": {
          "name": "#%% md\n"
        },
        "id": "qjrX9mxTOcEU"
      },
      "source": [
        "### Step 6. What is the number of observations in the dataset?"
      ]
    },
    {
      "cell_type": "code",
      "execution_count": 6,
      "metadata": {
        "pycharm": {
          "name": "#%%\n"
        },
        "colab": {
          "base_uri": "https://localhost:8080/"
        },
        "id": "Dz62IjDuOcEV",
        "outputId": "faf05678-e6d4-4799-f735-922aa85f6c9b"
      },
      "outputs": [
        {
          "output_type": "stream",
          "name": "stdout",
          "text": [
            "So luong quan sat: 943\n"
          ]
        }
      ],
      "source": [
        "print(\"So luong quan sat:\", users.shape[0])"
      ]
    },
    {
      "cell_type": "markdown",
      "metadata": {
        "pycharm": {
          "name": "#%% md\n"
        },
        "id": "BmFbpdjgOcEV"
      },
      "source": [
        "### Step 7. What is the number of columns in the dataset?"
      ]
    },
    {
      "cell_type": "code",
      "execution_count": 7,
      "metadata": {
        "pycharm": {
          "name": "#%%\n"
        },
        "colab": {
          "base_uri": "https://localhost:8080/"
        },
        "id": "F_kh_KMnOcEV",
        "outputId": "dbdbe741-94ba-4cf5-d104-047278cdcb26"
      },
      "outputs": [
        {
          "output_type": "stream",
          "name": "stdout",
          "text": [
            "So luong cot: 4\n"
          ]
        }
      ],
      "source": [
        "print(\"So luong cot:\", users.shape[1])"
      ]
    },
    {
      "cell_type": "markdown",
      "metadata": {
        "pycharm": {
          "name": "#%% md\n"
        },
        "id": "JetkaToJOcEV"
      },
      "source": [
        "### Step 8. Print the name of all the columns."
      ]
    },
    {
      "cell_type": "code",
      "execution_count": 8,
      "metadata": {
        "pycharm": {
          "name": "#%%\n"
        },
        "colab": {
          "base_uri": "https://localhost:8080/"
        },
        "id": "M6QJG2pbOcEV",
        "outputId": "28a7a849-e8c2-4cc7-fb79-e06ad98513e3"
      },
      "outputs": [
        {
          "output_type": "stream",
          "name": "stdout",
          "text": [
            "Ten cac cot: ['age', 'gender', 'occupation', 'zip_code']\n"
          ]
        }
      ],
      "source": [
        "print(\"Ten cac cot:\", users.columns.tolist())"
      ]
    },
    {
      "cell_type": "markdown",
      "metadata": {
        "pycharm": {
          "name": "#%% md\n"
        },
        "id": "R6UpzGPNOcEV"
      },
      "source": [
        "### Step 9. How is the dataset indexed?"
      ]
    },
    {
      "cell_type": "code",
      "execution_count": 9,
      "metadata": {
        "pycharm": {
          "name": "#%%\n"
        },
        "colab": {
          "base_uri": "https://localhost:8080/"
        },
        "id": "LCNhn0aXOcEV",
        "outputId": "941338fe-fe22-4e3f-ade9-1c7173c807dc"
      },
      "outputs": [
        {
          "output_type": "stream",
          "name": "stdout",
          "text": [
            "Chi so cua DataFrame: Index([  1,   2,   3,   4,   5,   6,   7,   8,   9,  10,\n",
            "       ...\n",
            "       934, 935, 936, 937, 938, 939, 940, 941, 942, 943],\n",
            "      dtype='int64', name='user_id', length=943)\n"
          ]
        }
      ],
      "source": [
        "print(\"Chi so cua DataFrame:\", users.index)"
      ]
    },
    {
      "cell_type": "markdown",
      "metadata": {
        "pycharm": {
          "name": "#%% md\n"
        },
        "id": "qtJpCXZCOcEV"
      },
      "source": [
        "### Step 10. What is the data type of each column?"
      ]
    },
    {
      "cell_type": "code",
      "execution_count": 10,
      "metadata": {
        "pycharm": {
          "name": "#%%\n"
        },
        "colab": {
          "base_uri": "https://localhost:8080/"
        },
        "id": "vl0S8V_lOcEW",
        "outputId": "d2219454-8948-4c60-d910-186cc1a6041a"
      },
      "outputs": [
        {
          "output_type": "stream",
          "name": "stdout",
          "text": [
            "age            int64\n",
            "gender        object\n",
            "occupation    object\n",
            "zip_code      object\n",
            "dtype: object\n"
          ]
        }
      ],
      "source": [
        "print(users.dtypes)"
      ]
    },
    {
      "cell_type": "markdown",
      "metadata": {
        "pycharm": {
          "name": "#%% md\n"
        },
        "id": "0Sqqri8ZOcEW"
      },
      "source": [
        "### Step 11. Print only the occupation column"
      ]
    },
    {
      "cell_type": "code",
      "execution_count": 11,
      "metadata": {
        "pycharm": {
          "name": "#%%\n"
        },
        "colab": {
          "base_uri": "https://localhost:8080/"
        },
        "id": "2dQgWz9fOcEW",
        "outputId": "3a8de373-3a18-4a8c-81ca-f8f0d3975ccd"
      },
      "outputs": [
        {
          "output_type": "stream",
          "name": "stdout",
          "text": [
            "user_id\n",
            "1         technician\n",
            "2              other\n",
            "3             writer\n",
            "4         technician\n",
            "5              other\n",
            "           ...      \n",
            "939          student\n",
            "940    administrator\n",
            "941          student\n",
            "942        librarian\n",
            "943          student\n",
            "Name: occupation, Length: 943, dtype: object\n"
          ]
        }
      ],
      "source": [
        "print(users['occupation'])"
      ]
    },
    {
      "cell_type": "markdown",
      "metadata": {
        "pycharm": {
          "name": "#%% md\n"
        },
        "id": "obgyXWj9OcEW"
      },
      "source": [
        "### Step 12. How many different occupations are in this dataset?"
      ]
    },
    {
      "cell_type": "code",
      "execution_count": 12,
      "metadata": {
        "pycharm": {
          "name": "#%%\n"
        },
        "colab": {
          "base_uri": "https://localhost:8080/"
        },
        "id": "mjBdAsIpOcEW",
        "outputId": "9d40efac-3ca2-4dd1-9236-4f12f48631ea"
      },
      "outputs": [
        {
          "output_type": "stream",
          "name": "stdout",
          "text": [
            "So nghe khac nhau: 21\n"
          ]
        }
      ],
      "source": [
        "print(\"So nghe khac nhau:\", users['occupation'].nunique())"
      ]
    },
    {
      "cell_type": "markdown",
      "metadata": {
        "pycharm": {
          "name": "#%% md\n"
        },
        "id": "_n5NEON5OcEW"
      },
      "source": [
        "### Step 13. What is the most frequent occupation?"
      ]
    },
    {
      "cell_type": "code",
      "execution_count": 13,
      "metadata": {
        "pycharm": {
          "name": "#%%\n"
        },
        "colab": {
          "base_uri": "https://localhost:8080/"
        },
        "id": "bZIwEr37OcEW",
        "outputId": "e01e1eec-ac5f-47b1-e367-e9d9034a39fb"
      },
      "outputs": [
        {
          "output_type": "stream",
          "name": "stdout",
          "text": [
            "Nghe pho bien nhat:\n",
            " occupation\n",
            "student    196\n",
            "Name: count, dtype: int64\n"
          ]
        }
      ],
      "source": [
        "print(\"Nghe pho bien nhat:\\n\", users['occupation'].value_counts().head(1))"
      ]
    },
    {
      "cell_type": "markdown",
      "metadata": {
        "pycharm": {
          "name": "#%% md\n"
        },
        "id": "aW7M5MAOOcEW"
      },
      "source": [
        "### Step 14. Summarize the DataFrame."
      ]
    },
    {
      "cell_type": "code",
      "execution_count": 14,
      "metadata": {
        "pycharm": {
          "name": "#%%\n"
        },
        "colab": {
          "base_uri": "https://localhost:8080/"
        },
        "id": "fhnLVfl1OcEW",
        "outputId": "fd3cd866-6198-4a9c-a367-f2b2efd07165"
      },
      "outputs": [
        {
          "output_type": "stream",
          "name": "stdout",
          "text": [
            "<class 'pandas.core.frame.DataFrame'>\n",
            "Index: 943 entries, 1 to 943\n",
            "Data columns (total 4 columns):\n",
            " #   Column      Non-Null Count  Dtype \n",
            "---  ------      --------------  ----- \n",
            " 0   age         943 non-null    int64 \n",
            " 1   gender      943 non-null    object\n",
            " 2   occupation  943 non-null    object\n",
            " 3   zip_code    943 non-null    object\n",
            "dtypes: int64(1), object(3)\n",
            "memory usage: 36.8+ KB\n",
            "None\n"
          ]
        }
      ],
      "source": [
        "print(users.info())"
      ]
    },
    {
      "cell_type": "markdown",
      "metadata": {
        "pycharm": {
          "name": "#%% md\n"
        },
        "id": "6DCMdAcLOcEW"
      },
      "source": [
        "### Step 15. Summarize all the columns"
      ]
    },
    {
      "cell_type": "code",
      "execution_count": 15,
      "metadata": {
        "pycharm": {
          "name": "#%%\n"
        },
        "colab": {
          "base_uri": "https://localhost:8080/"
        },
        "id": "Jk3fb27mOcEW",
        "outputId": "199c26c2-965d-4165-de2f-4b130a88b8ca"
      },
      "outputs": [
        {
          "output_type": "stream",
          "name": "stdout",
          "text": [
            "               age gender occupation zip_code\n",
            "count   943.000000    943        943      943\n",
            "unique         NaN      2         21      795\n",
            "top            NaN      M    student    55414\n",
            "freq           NaN    670        196        9\n",
            "mean     34.051962    NaN        NaN      NaN\n",
            "std      12.192740    NaN        NaN      NaN\n",
            "min       7.000000    NaN        NaN      NaN\n",
            "25%      25.000000    NaN        NaN      NaN\n",
            "50%      31.000000    NaN        NaN      NaN\n",
            "75%      43.000000    NaN        NaN      NaN\n",
            "max      73.000000    NaN        NaN      NaN\n"
          ]
        }
      ],
      "source": [
        "print(users.describe(include='all'))"
      ]
    },
    {
      "cell_type": "markdown",
      "metadata": {
        "pycharm": {
          "name": "#%% md\n"
        },
        "id": "DVU5eqeGOcEX"
      },
      "source": [
        "### Step 16. Summarize only the occupation column"
      ]
    },
    {
      "cell_type": "code",
      "execution_count": 16,
      "metadata": {
        "pycharm": {
          "name": "#%%\n"
        },
        "colab": {
          "base_uri": "https://localhost:8080/"
        },
        "id": "SAh9RydLOcEX",
        "outputId": "3c846259-6dff-416e-9f3d-1dbad1b945a3"
      },
      "outputs": [
        {
          "output_type": "stream",
          "name": "stdout",
          "text": [
            "count         943\n",
            "unique         21\n",
            "top       student\n",
            "freq          196\n",
            "Name: occupation, dtype: object\n"
          ]
        }
      ],
      "source": [
        "print(users['occupation'].describe())"
      ]
    },
    {
      "cell_type": "markdown",
      "metadata": {
        "pycharm": {
          "name": "#%% md\n"
        },
        "id": "zgVdrgXVOcEX"
      },
      "source": [
        "### Step 17. What is the mean age of users?"
      ]
    },
    {
      "cell_type": "code",
      "execution_count": 17,
      "metadata": {
        "pycharm": {
          "name": "#%%\n"
        },
        "colab": {
          "base_uri": "https://localhost:8080/"
        },
        "id": "-jjIHe41OcEX",
        "outputId": "68f8ad10-ff23-4748-d95f-f64b9563885a"
      },
      "outputs": [
        {
          "output_type": "stream",
          "name": "stdout",
          "text": [
            "Tuoi trung binh: 34.05196182396607\n"
          ]
        }
      ],
      "source": [
        "print(\"Tuoi trung binh:\", users['age'].mean())"
      ]
    },
    {
      "cell_type": "markdown",
      "metadata": {
        "pycharm": {
          "name": "#%% md\n"
        },
        "id": "-7s64jTgOcEX"
      },
      "source": [
        "### Step 18. What is the age with least occurrence?"
      ]
    },
    {
      "cell_type": "code",
      "execution_count": 18,
      "metadata": {
        "pycharm": {
          "name": "#%%\n"
        },
        "colab": {
          "base_uri": "https://localhost:8080/"
        },
        "id": "fT5j-tcjOcEX",
        "outputId": "07a9ad43-d12a-468b-eef4-cde9079660f2"
      },
      "outputs": [
        {
          "output_type": "stream",
          "name": "stdout",
          "text": [
            "Tuoi it nhat: 7\n"
          ]
        }
      ],
      "source": [
        "print(\"Tuoi it nhat:\", users['age'].value_counts().idxmin())"
      ]
    }
  ],
  "metadata": {
    "anaconda-cloud": {},
    "kernelspec": {
      "display_name": "Python 3",
      "name": "python3"
    },
    "language_info": {
      "name": "python"
    },
    "colab": {
      "provenance": []
    }
  },
  "nbformat": 4,
  "nbformat_minor": 0
}